{
 "cells": [
  {
   "cell_type": "code",
   "execution_count": null,
   "id": "23aef650-19f2-4700-b1fe-8de0cf7ef490",
   "metadata": {},
   "outputs": [],
   "source": [
    "##Q.1which function is used to open a file?What are the different modes of opening a fie?Explain \n",
    "#each mode of file opening..."
   ]
  },
  {
   "cell_type": "markdown",
   "id": "61ffc519-5504-469b-b105-820c04c51af5",
   "metadata": {
    "tags": []
   },
   "source": [
    "In Python, the open() function is used to open files. It provides a way to interact with files on your computer's file system. The basic syntax of the open() function is as follows: file name : and mode :"
   ]
  },
  {
   "cell_type": "code",
   "execution_count": null,
   "id": "199c01e0-f837-40e2-846a-60a221c57583",
   "metadata": {},
   "outputs": [],
   "source": [
    "#syntax for opening is as follows"
   ]
  },
  {
   "cell_type": "code",
   "execution_count": 6,
   "id": "882d90e2-df3c-46ab-9e3b-d704642c8ad8",
   "metadata": {},
   "outputs": [],
   "source": [
    "f=open(\"filename.txt\",'w')\n"
   ]
  },
  {
   "cell_type": "code",
   "execution_count": 7,
   "id": "428fa568-6476-453e-b4af-9ae9316dc9be",
   "metadata": {},
   "outputs": [],
   "source": [
    "#this will open filename in your directory and will be in write mode"
   ]
  },
  {
   "cell_type": "markdown",
   "id": "1e2c92a5-36c1-4c1b-9fd5-cde71d343c5b",
   "metadata": {},
   "source": [
    "examples of different mode"
   ]
  },
  {
   "cell_type": "code",
   "execution_count": 8,
   "id": "e69f71b2-500a-4e63-9ab0-f319fda2488c",
   "metadata": {},
   "outputs": [],
   "source": [
    "#1.read:This is the default mode .It opens the file for reading .\n",
    "#2.write:this opens the file for writing\n",
    "#3.'a'(append):it appends new data at the end of the file rather than truncating older data\n",
    "#4.'b'(binary):it can be added to the above modes to inddicate that the file should \n",
    "#be treated as binary file \n"
   ]
  },
  {
   "cell_type": "code",
   "execution_count": 21,
   "id": "7d135713-73e3-4d99-aa52-4cd135369705",
   "metadata": {},
   "outputs": [],
   "source": [
    "#reading a text file\n",
    "with open(\"example.txt\",'r') as f : \n",
    "    content = f.read()\n",
    "    \n",
    "#writing to a text file\n",
    "with open(\"output.txt\",'w') as f :\n",
    "    f.write('sairaj is learning data science patiently')\n",
    "      \n",
    "# Appending to a text file\n",
    "with open('log.txt', 'a') as f:\n",
    "    f.write('New entry: Something happened.')      \n",
    "        "
   ]
  },
  {
   "cell_type": "code",
   "execution_count": null,
   "id": "5658facd-e28d-4346-ba47-801ffac0b6ea",
   "metadata": {},
   "outputs": [],
   "source": [
    "##Q.2 Why close() function is used? Why is it important to close a file?"
   ]
  },
  {
   "cell_type": "markdown",
   "id": "0a154b54-bee4-4c3a-bd00-1e2ac8d1a96a",
   "metadata": {},
   "source": [
    "close function is used to close the files after working with them this ensures that no exceptions will take place.\n",
    "In summary, closing files using the close() function or using the with statement as a context manager is crucial to maintain proper resource management, ensure data integrity, and prevent potential issues in your programs.\n"
   ]
  },
  {
   "cell_type": "code",
   "execution_count": null,
   "id": "9a9b67d7-4fc7-484e-aec4-10e8e07d4e8b",
   "metadata": {},
   "outputs": [],
   "source": [
    "##Q3. Write a python program to create a text file. Write ‘I want to become a Data Scientist’ in that file. Then\n",
    "#close the file. Open this file and read the content of the file."
   ]
  },
  {
   "cell_type": "code",
   "execution_count": 30,
   "id": "dab7d833-3fa4-44d7-a300-c0efe1d5e226",
   "metadata": {},
   "outputs": [
    {
     "data": {
      "text/plain": [
       "33"
      ]
     },
     "execution_count": 30,
     "metadata": {},
     "output_type": "execute_result"
    }
   ],
   "source": [
    "f=open(\"sai.txt\",'w') \n",
    "f.write('I want to become a Data scientist')"
   ]
  },
  {
   "cell_type": "code",
   "execution_count": 31,
   "id": "c2439a69-728a-4a9e-aa63-8e6ee1307466",
   "metadata": {},
   "outputs": [],
   "source": [
    "f.close()"
   ]
  },
  {
   "cell_type": "code",
   "execution_count": 34,
   "id": "9eeb6fdc-921f-44d4-960f-a72e8f1e10e6",
   "metadata": {},
   "outputs": [],
   "source": [
    "with open(\"sai.txt\",'r')as f:\n",
    "     content=f.read()"
   ]
  },
  {
   "cell_type": "code",
   "execution_count": 35,
   "id": "de1463b3-dc10-40bb-863a-d0f95aea97c0",
   "metadata": {},
   "outputs": [
    {
     "name": "stdout",
     "output_type": "stream",
     "text": [
      "I want to become a Data scientist\n"
     ]
    }
   ],
   "source": [
    "print(content)"
   ]
  },
  {
   "cell_type": "code",
   "execution_count": 38,
   "id": "e8aaa3e9-4376-4f42-a2c4-ed97583fb4a2",
   "metadata": {},
   "outputs": [],
   "source": [
    "#Q4. Explain the following with python code: read(), readline() and readlines().\n"
   ]
  },
  {
   "cell_type": "code",
   "execution_count": null,
   "id": "6e5d8657-c82a-4556-9392-ce674c0cebd8",
   "metadata": {},
   "outputs": [],
   "source": [
    "  read() function reads the entire file \n",
    "    "
   ]
  },
  {
   "cell_type": "code",
   "execution_count": 43,
   "id": "6e1f3c16-1c8c-4cef-b22d-3a99ae103517",
   "metadata": {},
   "outputs": [],
   "source": [
    "with open('example.txt','w') as f :\n",
    "    f.write('sairaj is a good boy/n he is good at studies and likes to play cricket and hockey')\n",
    "            "
   ]
  },
  {
   "cell_type": "code",
   "execution_count": 44,
   "id": "197c6e32-212d-482e-8435-96e5bcdb7a2b",
   "metadata": {},
   "outputs": [
    {
     "name": "stdout",
     "output_type": "stream",
     "text": [
      "sairaj is a good boy/n he is good at studies and likes to play cricket and hockey\n",
      "\n",
      "sairaj is a good boy/n he is good at studies and likes to play cricket and hockey\n"
     ]
    }
   ],
   "source": [
    "# readline()function reads first line\n",
    "\n",
    "with open('example.txt', 'r') as f:\n",
    "    line1 = f.readline()  # Read the first line\n",
    "    line2 = f.readline()  # Read the second line\n",
    "\n",
    "print(line1)\n",
    "print(line2)\n",
    "\n",
    "#readlines example\n",
    "# Reading all lines and storing in a list\n",
    "with open('example.txt', 'r') as f:\n",
    "    lines = f.readlines()\n",
    "\n",
    "for line in lines:\n",
    "    print(line)\n",
    "\n"
   ]
  },
  {
   "cell_type": "markdown",
   "id": "463274ea-ac08-42be-bfca-0a9cdbada189",
   "metadata": {},
   "source": [
    "#Q5. Explain why with statement is used with open(). What is the advantage of using with statement and open() together?"
   ]
  },
  {
   "cell_type": "markdown",
   "id": "503cf517-42d0-41f3-b520-0c201434ab7b",
   "metadata": {},
   "source": [
    "#ans.The with statement in Python is used in conjunction with the open() function to provide a context manager for working with files. \n",
    "The primary advantage of using the with statement with open() is that it ensures proper and automatic management of resources, such as file handling in this case.\n",
    "The with statement ensures that file is properly closed after work and we have to not use it close function separately.This secures in sitations when we forget to close the file."
   ]
  },
  {
   "cell_type": "markdown",
   "id": "cc1e3ba4-75c7-4e11-bfa7-6568fd30ca2c",
   "metadata": {},
   "source": [
    "#Q6. Explain the write() and writelines() functions. Give a suitable example."
   ]
  },
  {
   "cell_type": "markdown",
   "id": "cf4c8c7d-09c0-4d95-bc44-a6d3a326bfae",
   "metadata": {},
   "source": [
    "write function is used to add string data to the file. "
   ]
  },
  {
   "cell_type": "code",
   "execution_count": 47,
   "id": "2fc4a247-449d-4703-a2f0-51e4081ad283",
   "metadata": {},
   "outputs": [],
   "source": [
    "#writelines(): This function is used to write a list of strings to a file. It takes an iterable (like a list) of strings and writes each string as a separate line in the file.\n",
    "# Writing a list of strings to a file\n",
    "lines = ['Line 1', 'Line 2', ]\n",
    "with open('output_lines.txt', 'w') as f:\n",
    "    sai=  f.writelines(lines)\n",
    "\n"
   ]
  },
  {
   "cell_type": "code",
   "execution_count": null,
   "id": "b3718861-d42e-4421-8a78-de11ec381053",
   "metadata": {},
   "outputs": [],
   "source": [
    "\n"
   ]
  },
  {
   "cell_type": "code",
   "execution_count": null,
   "id": "46c4353c-3f68-4afa-8254-be1c3c3f11e5",
   "metadata": {},
   "outputs": [],
   "source": []
  },
  {
   "cell_type": "code",
   "execution_count": null,
   "id": "101372ed-37d6-4dff-a5ed-993c45320256",
   "metadata": {},
   "outputs": [],
   "source": []
  },
  {
   "cell_type": "code",
   "execution_count": null,
   "id": "af0c963b-c50b-4e6e-b9d1-03d51f86b2b7",
   "metadata": {},
   "outputs": [],
   "source": []
  },
  {
   "cell_type": "code",
   "execution_count": null,
   "id": "23b5f6d5-97bc-4bcf-a685-1a139fd9bb71",
   "metadata": {},
   "outputs": [],
   "source": []
  },
  {
   "cell_type": "code",
   "execution_count": null,
   "id": "5b28e337-2187-4662-a7e0-05b0137f7980",
   "metadata": {},
   "outputs": [],
   "source": []
  },
  {
   "cell_type": "code",
   "execution_count": null,
   "id": "39f389f5-b1aa-45c3-b4ac-a65e8bc98eab",
   "metadata": {},
   "outputs": [],
   "source": []
  },
  {
   "cell_type": "code",
   "execution_count": null,
   "id": "555878fa-ceec-41ce-b533-f9253ff66e46",
   "metadata": {},
   "outputs": [],
   "source": []
  },
  {
   "cell_type": "code",
   "execution_count": null,
   "id": "8e5b41a7-0517-46c2-9896-7f5078958629",
   "metadata": {},
   "outputs": [],
   "source": []
  },
  {
   "cell_type": "code",
   "execution_count": null,
   "id": "ec5758c3-265c-497c-8725-b5e9c08175a5",
   "metadata": {},
   "outputs": [],
   "source": []
  },
  {
   "cell_type": "code",
   "execution_count": null,
   "id": "7f60b8a6-f43e-4a5f-8428-f6372d9cd815",
   "metadata": {},
   "outputs": [],
   "source": []
  },
  {
   "cell_type": "code",
   "execution_count": null,
   "id": "3b55aa3f-f2f6-459d-9f5f-bbc54c499831",
   "metadata": {},
   "outputs": [],
   "source": []
  },
  {
   "cell_type": "code",
   "execution_count": null,
   "id": "59cac12b-75d6-48fc-80a1-22844a140f3d",
   "metadata": {},
   "outputs": [],
   "source": []
  },
  {
   "cell_type": "code",
   "execution_count": null,
   "id": "b067b10b-fd75-458c-aecd-ba7c2d248111",
   "metadata": {},
   "outputs": [],
   "source": []
  },
  {
   "cell_type": "code",
   "execution_count": null,
   "id": "3524e812-8fab-4dca-9ba4-808095a4091f",
   "metadata": {},
   "outputs": [],
   "source": []
  },
  {
   "cell_type": "code",
   "execution_count": null,
   "id": "6c2c31a4-952c-4444-b12c-b38e0a2751ec",
   "metadata": {},
   "outputs": [],
   "source": []
  },
  {
   "cell_type": "code",
   "execution_count": null,
   "id": "7029648d-05c0-49d2-9aad-0c34b2130306",
   "metadata": {},
   "outputs": [],
   "source": []
  },
  {
   "cell_type": "code",
   "execution_count": null,
   "id": "625f6255-cfa6-4de5-8eb8-7b99d7d8a632",
   "metadata": {},
   "outputs": [],
   "source": []
  },
  {
   "cell_type": "code",
   "execution_count": null,
   "id": "7a01b25b-860b-42b2-92b5-c414295b62e1",
   "metadata": {},
   "outputs": [],
   "source": []
  },
  {
   "cell_type": "code",
   "execution_count": null,
   "id": "eb9cd8f7-9768-4919-8df9-16dc13f294dc",
   "metadata": {},
   "outputs": [],
   "source": []
  },
  {
   "cell_type": "code",
   "execution_count": null,
   "id": "3a8d5d24-219c-4981-a8ea-a5d4393c31ae",
   "metadata": {},
   "outputs": [],
   "source": []
  }
 ],
 "metadata": {
  "kernelspec": {
   "display_name": "Python 3 (ipykernel)",
   "language": "python",
   "name": "python3"
  },
  "language_info": {
   "codemirror_mode": {
    "name": "ipython",
    "version": 3
   },
   "file_extension": ".py",
   "mimetype": "text/x-python",
   "name": "python",
   "nbconvert_exporter": "python",
   "pygments_lexer": "ipython3",
   "version": "3.10.8"
  }
 },
 "nbformat": 4,
 "nbformat_minor": 5
}
