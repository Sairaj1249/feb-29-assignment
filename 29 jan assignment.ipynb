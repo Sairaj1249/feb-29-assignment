{
 "cells": [
  {
   "cell_type": "code",
   "execution_count": null,
   "id": "ec4d9816-71c9-45af-ae30-7279bc63958d",
   "metadata": {},
   "outputs": [],
   "source": [
    "#Q-1 . Guido van rossum developed python programming language."
   ]
  },
  {
   "cell_type": "code",
   "execution_count": null,
   "id": "0e81597a-2306-40d1-bfae-9304dbee4e3a",
   "metadata": {},
   "outputs": [],
   "source": [
    "#Q-2 .python supports object oriented programming language ."
   ]
  },
  {
   "cell_type": "code",
   "execution_count": null,
   "id": "2b0167fc-417b-496a-854b-a9d45687ddfb",
   "metadata": {},
   "outputs": [],
   "source": [
    "#Q-3. Yes, Python is a case-sensitive language, i.e., it treats uppercase and lowercase characters differently"
   ]
  },
  {
   "cell_type": "code",
   "execution_count": 1,
   "id": "bbbfbf85-0adb-4549-b00e-c927775248d3",
   "metadata": {},
   "outputs": [],
   "source": [
    "#Q-4.extension of python is .py"
   ]
  },
  {
   "cell_type": "code",
   "execution_count": null,
   "id": "02082600-a0b0-47a9-9f65-95887595c346",
   "metadata": {},
   "outputs": [],
   "source": [
    "#Q-5. python code is interpreted."
   ]
  },
  {
   "cell_type": "code",
   "execution_count": null,
   "id": "2d73417e-77bf-474b-918c-4a93beee73e1",
   "metadata": {},
   "outputs": [],
   "source": [
    "#Q-6.in python indentation is used to define. indentation is done with whitespace. All statements with the same right-hand distance belong to the same code block. If a block needs to be more nested, it is indented to the right."
   ]
  },
  {
   "cell_type": "code",
   "execution_count": null,
   "id": "10ccfff9-389f-45bc-bf11-3bd0a857c10f",
   "metadata": {},
   "outputs": [],
   "source": [
    "#Q-7 hash is a character used to give single line comments "
   ]
  },
  {
   "cell_type": "code",
   "execution_count": 1,
   "id": "26ee021e-06cd-4359-a233-5e40a6e3bbe8",
   "metadata": {},
   "outputs": [],
   "source": [
    "#Q-8 sys. version is a function which is used to find a version of python .\n"
   ]
  },
  {
   "cell_type": "code",
   "execution_count": 2,
   "id": "de168c5f-dfd1-4648-824d-67925b68f615",
   "metadata": {},
   "outputs": [],
   "source": [
    "#Q-9. pythinn supports the creation of anonymous fundtions at runtime, usin a construct called lambda\n",
    "\n"
   ]
  },
  {
   "cell_type": "code",
   "execution_count": 3,
   "id": "2b4bf75c-9ab8-4041-9bc2-ab2dfece4572",
   "metadata": {},
   "outputs": [],
   "source": [
    "#Q-10.pip stands for pip install packages\n"
   ]
  },
  {
   "cell_type": "code",
   "execution_count": null,
   "id": "80a599c1-8bb7-4021-8f2c-e54a35a4406d",
   "metadata": {},
   "outputs": [],
   "source": [
    "#Q-11. print( ) function.\n",
    "type( ) function.\n",
    "input( ) function.\n",
    "abs( ) function.\n",
    "pow( ) function.\n",
    "dir( ) function.\n",
    "sorted( ) function.\n",
    "max( ) function.\n",
    "# are some the functions which are inbuilt"
   ]
  },
  {
   "cell_type": "code",
   "execution_count": 4,
   "id": "41ebd162-69f5-45f1-94ec-8af4583335ca",
   "metadata": {},
   "outputs": [],
   "source": [
    "#Q-12.an identifier can have maximum 79 characters in python."
   ]
  },
  {
   "cell_type": "code",
   "execution_count": 6,
   "id": "758a6992-a87f-4011-96e2-daad811defe4",
   "metadata": {},
   "outputs": [],
   "source": [
    "#Q-13.following are the benefits of using python\n",
    "# python is easy to understand and doesn't needs compiling .\n",
    "# open source free and can edit source code.\n",
    "# dynamically typed -No need to specify the type of variable before/after using it.\n",
    "#interpreted language \n",
    "# object oriented languang.\n",
    "# scripting language.\n",
    "# it has huge library .we can do multithreading and multiprocessing ."
   ]
  },
  {
   "cell_type": "code",
   "execution_count": null,
   "id": "11890e30-9774-4b27-9612-ad98dca3ea64",
   "metadata": {},
   "outputs": [],
   "source": [
    "#Q-14.Python uses a portion of the memory for internal use and non-object memory. Another part of the memory is used for Python object such as int, dict, list, etc.\n",
    "\n",
    "#Python contains the object allocator that allocates memory within the object area.\n",
    "#The object allocator gets a call every time the new object needs space.\n",
    "#The allocator primary designs for small amount of data because Python doesn't involve too much data at a time.\n",
    "#It allocates the memory when it is absolutely required.\n",
    "\n",
    "#There are three main components of the Python memory allocation strategy.\n",
    "\n",
    "#Arena - It is the largest chunks of memory and aligned on a page boundary in memory. \n",
    "#The operating system uses the page boundary which is the edge of a fixed-length contiguous chuck of memory. \n",
    "#Python assumes the system's page size is 256 kilobytes.\n",
    "#Pools - It is composed of a single size class.\n",
    "#A pool of the same size manages a double-linked list.\n",
    "#A pool must be - used, full, or empty. A used pool consists of memory blocks for data to be stored. \n",
    "#A full pool has all the allocated and contain data.\n",
    "#An empty pool doesn't have any data and can be assigned any size class for the block when needed.\n",
    "#Blocks - Pools contains a pointer to their \"free\" block of the memory. \n",
    "#In the pool, there is a pointer, which indicates the free block of memory. \n",
    "#The allocator doesn't touch these block until it's actually needed.\n"
   ]
  },
  {
   "cell_type": "code",
   "execution_count": null,
   "id": "db4993b7-5419-4741-9e3d-97430506a501",
   "metadata": {},
   "outputs": [],
   "source": [
    "#Q-15."
   ]
  },
  {
   "cell_type": "code",
   "execution_count": null,
   "id": "f9e0c1f4-6c06-4f4f-ac0b-c5941fafb72f",
   "metadata": {},
   "outputs": [],
   "source": [
    "#Q-16.yes identation in python is very important."
   ]
  },
  {
   "cell_type": "code",
   "execution_count": null,
   "id": "9b5ebefb-aded-424a-bdb7-d9d6b2501f4b",
   "metadata": {},
   "outputs": [],
   "source": []
  },
  {
   "cell_type": "code",
   "execution_count": null,
   "id": "009203b2-8a0c-4304-b3b4-97e2c3ee9d87",
   "metadata": {},
   "outputs": [],
   "source": []
  },
  {
   "cell_type": "code",
   "execution_count": null,
   "id": "0bf3c2a2-c3b1-4c5a-8d39-08716904a513",
   "metadata": {},
   "outputs": [],
   "source": []
  },
  {
   "cell_type": "code",
   "execution_count": null,
   "id": "dc2c20b2-f2ad-45cd-9523-54100a8c284e",
   "metadata": {},
   "outputs": [],
   "source": []
  },
  {
   "cell_type": "code",
   "execution_count": null,
   "id": "3b659fe4-2844-4124-8228-93392ed48e6b",
   "metadata": {},
   "outputs": [],
   "source": []
  },
  {
   "cell_type": "code",
   "execution_count": null,
   "id": "a72b60bc-76b2-44e5-abaa-4f8069ca3f98",
   "metadata": {},
   "outputs": [],
   "source": []
  },
  {
   "cell_type": "code",
   "execution_count": null,
   "id": "b79938da-d419-4171-b4a3-bda16f922411",
   "metadata": {},
   "outputs": [],
   "source": []
  },
  {
   "cell_type": "code",
   "execution_count": null,
   "id": "9c492442-9c89-4aff-a8c2-ee3d04cf0c6a",
   "metadata": {},
   "outputs": [],
   "source": []
  },
  {
   "cell_type": "code",
   "execution_count": null,
   "id": "c0982c9a-3037-42ff-977f-2f0e31425469",
   "metadata": {},
   "outputs": [],
   "source": []
  },
  {
   "cell_type": "code",
   "execution_count": null,
   "id": "84375c7b-2369-409f-a93a-ec43f98a9440",
   "metadata": {},
   "outputs": [],
   "source": []
  },
  {
   "cell_type": "code",
   "execution_count": null,
   "id": "ed77059a-3a1b-44b8-a341-85c402479475",
   "metadata": {},
   "outputs": [],
   "source": []
  },
  {
   "cell_type": "code",
   "execution_count": null,
   "id": "5bd095cf-1940-41ff-bb79-7762cc40b6ba",
   "metadata": {},
   "outputs": [],
   "source": []
  },
  {
   "cell_type": "code",
   "execution_count": null,
   "id": "019beb9f-d19e-477e-a7c4-e550e21e4dbf",
   "metadata": {},
   "outputs": [],
   "source": []
  },
  {
   "cell_type": "code",
   "execution_count": null,
   "id": "f63a62e0-588e-45b9-b06b-3c03cf7c40aa",
   "metadata": {},
   "outputs": [],
   "source": []
  },
  {
   "cell_type": "code",
   "execution_count": null,
   "id": "aec4a7c1-445e-4e1a-a952-6d04ba1799d3",
   "metadata": {},
   "outputs": [],
   "source": []
  },
  {
   "cell_type": "code",
   "execution_count": null,
   "id": "bb4e59a0-0c75-44c2-bd9f-fa3d319b6deb",
   "metadata": {},
   "outputs": [],
   "source": []
  },
  {
   "cell_type": "code",
   "execution_count": null,
   "id": "269c62f9-f34e-40ba-b2ec-d45d9165ab61",
   "metadata": {},
   "outputs": [],
   "source": []
  },
  {
   "cell_type": "code",
   "execution_count": null,
   "id": "b0ecd253-b7e4-4a1d-abf1-e7f06623dc65",
   "metadata": {},
   "outputs": [],
   "source": []
  },
  {
   "cell_type": "code",
   "execution_count": null,
   "id": "96185210-88fc-41db-94fd-b85d4feb3a67",
   "metadata": {},
   "outputs": [],
   "source": []
  },
  {
   "cell_type": "code",
   "execution_count": null,
   "id": "76a2a94d-d553-47e1-87e8-aa4e656c8b80",
   "metadata": {},
   "outputs": [],
   "source": []
  },
  {
   "cell_type": "code",
   "execution_count": null,
   "id": "47b276cb-e6b8-4ca4-a67d-71bcd7d2b080",
   "metadata": {},
   "outputs": [],
   "source": []
  },
  {
   "cell_type": "code",
   "execution_count": null,
   "id": "1002c6f1-1ed4-47b0-b9b9-6d52b133e901",
   "metadata": {},
   "outputs": [],
   "source": []
  },
  {
   "cell_type": "code",
   "execution_count": null,
   "id": "5ba7f7eb-d0c0-4d84-a9ee-a29e4b0d0c5d",
   "metadata": {},
   "outputs": [],
   "source": []
  },
  {
   "cell_type": "code",
   "execution_count": null,
   "id": "cd5bb8f5-a62f-495f-87d4-a2f7c408c3c9",
   "metadata": {},
   "outputs": [],
   "source": []
  },
  {
   "cell_type": "code",
   "execution_count": null,
   "id": "68a88b6e-51ea-49d2-bc59-be6523ee748b",
   "metadata": {},
   "outputs": [],
   "source": []
  },
  {
   "cell_type": "code",
   "execution_count": null,
   "id": "6cec0380-3d8f-4cbf-8b7d-1d3a67c5a460",
   "metadata": {},
   "outputs": [],
   "source": []
  },
  {
   "cell_type": "code",
   "execution_count": null,
   "id": "d73a9c87-8dda-465f-807e-9c9f2e281458",
   "metadata": {},
   "outputs": [],
   "source": []
  },
  {
   "cell_type": "code",
   "execution_count": null,
   "id": "0474bddc-3ccb-45ab-854a-0b9f6c0769eb",
   "metadata": {},
   "outputs": [],
   "source": []
  },
  {
   "cell_type": "code",
   "execution_count": null,
   "id": "0720bc38-7287-403b-b9f5-6e760ca66e0d",
   "metadata": {},
   "outputs": [],
   "source": []
  },
  {
   "cell_type": "code",
   "execution_count": null,
   "id": "219adc2d-0131-4d47-9020-5dd530536400",
   "metadata": {},
   "outputs": [],
   "source": []
  },
  {
   "cell_type": "code",
   "execution_count": null,
   "id": "27660ff6-8fce-49d3-94d1-7e95725a8f51",
   "metadata": {},
   "outputs": [],
   "source": []
  },
  {
   "cell_type": "code",
   "execution_count": null,
   "id": "9083ec36-3f1b-49a8-b982-d63f525cf7e5",
   "metadata": {},
   "outputs": [],
   "source": []
  },
  {
   "cell_type": "code",
   "execution_count": null,
   "id": "71243075-25cc-47dd-8112-5c3c5c58cef8",
   "metadata": {},
   "outputs": [],
   "source": []
  },
  {
   "cell_type": "code",
   "execution_count": null,
   "id": "cb940486-70c2-4ab6-9108-be42936c8cc1",
   "metadata": {},
   "outputs": [],
   "source": []
  },
  {
   "cell_type": "code",
   "execution_count": null,
   "id": "99e947e2-ca3d-4dfa-bced-67fd667289a7",
   "metadata": {},
   "outputs": [],
   "source": []
  },
  {
   "cell_type": "code",
   "execution_count": null,
   "id": "6b0ff299-e3fe-4fb5-9ef8-889d0c40c7df",
   "metadata": {},
   "outputs": [],
   "source": []
  },
  {
   "cell_type": "code",
   "execution_count": null,
   "id": "2ba8fb34-8f4f-41da-a637-c9e6a470728c",
   "metadata": {},
   "outputs": [],
   "source": []
  },
  {
   "cell_type": "code",
   "execution_count": null,
   "id": "5a5e087c-099e-4563-844f-e0b215620b57",
   "metadata": {},
   "outputs": [],
   "source": []
  },
  {
   "cell_type": "code",
   "execution_count": null,
   "id": "0556c5ae-d36f-495a-8018-c443d37deaac",
   "metadata": {},
   "outputs": [],
   "source": []
  },
  {
   "cell_type": "code",
   "execution_count": null,
   "id": "1f5c3c4a-4323-4343-b193-4afacbca7de6",
   "metadata": {},
   "outputs": [],
   "source": []
  },
  {
   "cell_type": "code",
   "execution_count": null,
   "id": "d84fb3ed-7e8b-4541-951a-b733729b049b",
   "metadata": {},
   "outputs": [],
   "source": []
  },
  {
   "cell_type": "code",
   "execution_count": null,
   "id": "5e79b4a6-6862-4066-b3bb-f5588f7bf535",
   "metadata": {},
   "outputs": [],
   "source": []
  },
  {
   "cell_type": "code",
   "execution_count": null,
   "id": "f7c7c7d8-a527-48a9-9d8d-48b5ac62b877",
   "metadata": {},
   "outputs": [],
   "source": []
  },
  {
   "cell_type": "code",
   "execution_count": null,
   "id": "4175c128-ad62-48e2-82e2-3934b7595b43",
   "metadata": {},
   "outputs": [],
   "source": []
  },
  {
   "cell_type": "code",
   "execution_count": null,
   "id": "6d2907e9-a108-41e0-a0da-3ee51ea527e3",
   "metadata": {},
   "outputs": [],
   "source": []
  },
  {
   "cell_type": "code",
   "execution_count": null,
   "id": "72b1b2b7-c4cf-4ec5-81ae-1149aaf86dba",
   "metadata": {},
   "outputs": [],
   "source": []
  },
  {
   "cell_type": "code",
   "execution_count": null,
   "id": "cd648699-a911-4a16-81d1-f10c63bde0f6",
   "metadata": {},
   "outputs": [],
   "source": []
  },
  {
   "cell_type": "code",
   "execution_count": null,
   "id": "48b34c69-fabe-42ce-a6f5-8f5c2c34e8f2",
   "metadata": {},
   "outputs": [],
   "source": []
  },
  {
   "cell_type": "code",
   "execution_count": null,
   "id": "889c2ca7-5503-429a-bd55-4b4622456ee3",
   "metadata": {},
   "outputs": [],
   "source": []
  },
  {
   "cell_type": "code",
   "execution_count": null,
   "id": "20d5028f-7145-4169-aec6-ad3064e90d0d",
   "metadata": {},
   "outputs": [],
   "source": []
  },
  {
   "cell_type": "code",
   "execution_count": null,
   "id": "da07f00c-2961-49c6-88a5-107504c20dfd",
   "metadata": {},
   "outputs": [],
   "source": []
  },
  {
   "cell_type": "code",
   "execution_count": null,
   "id": "aa9bd8c6-1def-49f3-84f7-c3477667a52f",
   "metadata": {},
   "outputs": [],
   "source": []
  },
  {
   "cell_type": "code",
   "execution_count": null,
   "id": "eeb754d6-a501-4de9-9fa1-903554d6de6c",
   "metadata": {},
   "outputs": [],
   "source": []
  },
  {
   "cell_type": "code",
   "execution_count": null,
   "id": "75c519b8-4b7a-495e-ab7b-92a332d4ff5c",
   "metadata": {},
   "outputs": [],
   "source": []
  },
  {
   "cell_type": "code",
   "execution_count": null,
   "id": "7e3b0258-8423-4a72-999b-9a5d4f84480e",
   "metadata": {},
   "outputs": [],
   "source": []
  },
  {
   "cell_type": "code",
   "execution_count": null,
   "id": "13205193-bdde-409e-b825-bf5110d4483b",
   "metadata": {},
   "outputs": [],
   "source": []
  },
  {
   "cell_type": "code",
   "execution_count": null,
   "id": "697fffa9-2d6a-4011-a200-3f9212a9ebc3",
   "metadata": {},
   "outputs": [],
   "source": []
  },
  {
   "cell_type": "code",
   "execution_count": null,
   "id": "6029871a-51d1-4db2-82a6-b4a2217380db",
   "metadata": {},
   "outputs": [],
   "source": []
  },
  {
   "cell_type": "code",
   "execution_count": null,
   "id": "08cbad92-4acf-4447-b02d-692efa9fae82",
   "metadata": {},
   "outputs": [],
   "source": []
  },
  {
   "cell_type": "code",
   "execution_count": null,
   "id": "e40c6226-c6ea-4050-bb06-9cfd2138d92a",
   "metadata": {},
   "outputs": [],
   "source": []
  },
  {
   "cell_type": "code",
   "execution_count": null,
   "id": "c0a54ce9-5b40-4e52-bc28-f4a549d2f548",
   "metadata": {},
   "outputs": [],
   "source": []
  },
  {
   "cell_type": "code",
   "execution_count": null,
   "id": "bdd09918-7676-465f-b53d-3af31b6400d8",
   "metadata": {},
   "outputs": [],
   "source": []
  },
  {
   "cell_type": "code",
   "execution_count": null,
   "id": "84d29ade-0475-47f6-8278-a37e7b603474",
   "metadata": {},
   "outputs": [],
   "source": []
  },
  {
   "cell_type": "code",
   "execution_count": null,
   "id": "20b42a32-c906-41ab-8270-c5c08bb010f7",
   "metadata": {},
   "outputs": [],
   "source": []
  },
  {
   "cell_type": "code",
   "execution_count": null,
   "id": "53442f03-b306-43b8-896c-7df4cc250572",
   "metadata": {},
   "outputs": [],
   "source": []
  },
  {
   "cell_type": "code",
   "execution_count": null,
   "id": "41d09798-e20e-41b7-bff0-eab49c46c69b",
   "metadata": {},
   "outputs": [],
   "source": []
  },
  {
   "cell_type": "code",
   "execution_count": null,
   "id": "b97eb8f9-23de-4a1e-8ff9-1cf9d1d55ad1",
   "metadata": {},
   "outputs": [],
   "source": []
  },
  {
   "cell_type": "code",
   "execution_count": null,
   "id": "6a118b35-8976-488b-83ac-9e61e62cb97b",
   "metadata": {},
   "outputs": [],
   "source": []
  },
  {
   "cell_type": "code",
   "execution_count": null,
   "id": "a9afad55-d090-4522-a6bc-fb7250d370a6",
   "metadata": {},
   "outputs": [],
   "source": []
  },
  {
   "cell_type": "code",
   "execution_count": null,
   "id": "06644055-7f86-42aa-803c-3dd5a72ba7ef",
   "metadata": {},
   "outputs": [],
   "source": []
  },
  {
   "cell_type": "code",
   "execution_count": null,
   "id": "1d557c71-def1-4e30-b547-81623b537832",
   "metadata": {},
   "outputs": [],
   "source": []
  },
  {
   "cell_type": "code",
   "execution_count": null,
   "id": "49652f92-d985-4154-bd8a-26ecc45a3b77",
   "metadata": {},
   "outputs": [],
   "source": []
  },
  {
   "cell_type": "code",
   "execution_count": null,
   "id": "88de3d9a-d669-4df2-9c31-0fd081303044",
   "metadata": {},
   "outputs": [],
   "source": []
  },
  {
   "cell_type": "code",
   "execution_count": null,
   "id": "fc67ce09-252b-4ef4-8a8f-6bebe228f83e",
   "metadata": {},
   "outputs": [],
   "source": []
  },
  {
   "cell_type": "code",
   "execution_count": null,
   "id": "227e4aa6-207f-49b2-a7c6-b853f118072f",
   "metadata": {},
   "outputs": [],
   "source": []
  },
  {
   "cell_type": "code",
   "execution_count": null,
   "id": "56721aca-33bc-4695-b61a-c3798956fbbb",
   "metadata": {},
   "outputs": [],
   "source": []
  }
 ],
 "metadata": {
  "kernelspec": {
   "display_name": "Python 3 (ipykernel)",
   "language": "python",
   "name": "python3"
  },
  "language_info": {
   "codemirror_mode": {
    "name": "ipython",
    "version": 3
   },
   "file_extension": ".py",
   "mimetype": "text/x-python",
   "name": "python",
   "nbconvert_exporter": "python",
   "pygments_lexer": "ipython3",
   "version": "3.10.8"
  }
 },
 "nbformat": 4,
 "nbformat_minor": 5
}
